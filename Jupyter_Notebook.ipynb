{
 "cells": [
  {
   "cell_type": "markdown",
   "metadata": {
    "jupyter": {
     "source_hidden": true
    },
    "tags": []
   },
   "source": [
    "<center>\n",
    "    <img src=\"https://cf-courses-data.s3.us.cloud-object-storage.appdomain.cloud/IBMDeveloperSkillsNetwork-DS0105EN-SkillsNetwork/labs/Module2/images/SN_web_lightmode.png\" width=\"300\" alt=\"cognitiveclass.ai logo\">\n",
    "</center>\n"
   ]
  },
  {
   "cell_type": "markdown",
   "metadata": {},
   "source": [
    "#### Add your code below following the instructions given in the course\n"
   ]
  },
  {
   "cell_type": "markdown",
   "metadata": {
    "tags": []
   },
   "source": [
    "# My Final Project Notebook"
   ]
  },
  {
   "cell_type": "markdown",
   "metadata": {
    "tags": []
   },
   "source": [
    "## Introduction\n",
    "\n",
    "Welcome to my final project notebook! In this notebook, I will be exploring various data science concepts and techniques using JupyterLite. I'll walk you through my analysis step by step and provide insights into the dataset I'm working with. Feel free to follow along and explore the code and visualizations. Let's get started!\n"
   ]
  },
  {
   "cell_type": "markdown",
   "metadata": {},
   "source": [
    "## Data Science Languages\n",
    "\n",
    "- Python\n",
    "- R\n",
    "- SQL\n",
    "- Julia\n",
    "- Scala\n",
    "- MATLAB\n",
    "- SAS\n"
   ]
  },
  {
   "cell_type": "markdown",
   "metadata": {},
   "source": [
    "## Data Science Libraries\n",
    "\n",
    "### Python:\n",
    "\n",
    "- NumPy\n",
    "- Pandas\n",
    "- Matplotlib\n",
    "- Seaborn\n",
    "- Scikit-learn\n",
    "- TensorFlow\n",
    "- PyTorch\n",
    "\n",
    "### R:\n",
    "\n",
    "- dplyr\n",
    "- ggplot2\n",
    "- caret\n",
    "- tidyr\n",
    "- lubridate\n",
    "- shiny\n",
    "- data.table\n",
    "\n",
    "### Other Languages:\n",
    "\n",
    "- SQLAlchemy (Python)\n",
    "- Apache Spark (Scala)\n",
    "- Torch (Lua, C++)\n",
    "- H2O.ai (Java, R, Python)\n"
   ]
  },
  {
   "cell_type": "markdown",
   "metadata": {},
   "source": [
    "## Data Science Tools\n",
    "\n",
    "| Language    | Libraries/Tools                     |\n",
    "|-------------|-------------------------------------|\n",
    "| Python      | - NumPy                             |\n",
    "|             | - Pandas                            |\n",
    "|             | - Matplotlib                        |\n",
    "|             | - Seaborn                           |\n",
    "|             | - Scikit-learn                      |\n",
    "|             | - TensorFlow                        |\n",
    "|             | - PyTorch                           |\n",
    "|-------------|-------------------------------------|\n",
    "| R           | - dplyr                             |\n",
    "|             | - ggplot2                           |\n",
    "|             | - caret                             |\n",
    "|             | - tidyr                             |\n",
    "|             | - lubridate                         |\n",
    "|             | - shiny                             |\n",
    "|             | - data.table                        |\n",
    "|-------------|-------------------------------------|\n",
    "| SQL         | - SQLAlchemy                        |\n",
    "|             | - Apache Spark                      |\n",
    "|             | - H2O.ai                            |\n",
    "|-------------|-------------------------------------|\n",
    "| Other       | - Torch                             |\n",
    "|             | - MATLAB                            |\n",
    "|             | - SAS                               |\n"
   ]
  },
  {
   "cell_type": "markdown",
   "metadata": {},
   "source": [
    "## Arithmetic Expression Examples\n",
    "\n",
    "In this section, we'll explore some basic arithmetic expressions using Python. Arithmetic expressions involve mathematical operations such as addition, subtraction, multiplication, and division. We'll demonstrate how to perform these operations using Python code snippets.\n"
   ]
  },
  {
   "cell_type": "code",
   "execution_count": 8,
   "metadata": {
    "tags": []
   },
   "outputs": [
    {
     "name": "stdout",
     "output_type": "stream",
     "text": [
      "Multiplication result: 21\n",
      "Addition result: 15\n"
     ]
    }
   ],
   "source": [
    "# Multiplication\n",
    "result_multiplication = 7 * 3\n",
    "print(\"Multiplication result:\", result_multiplication)  # Output: 21\n",
    "\n",
    "# Addition\n",
    "result_addition = 10 + 5\n",
    "print(\"Addition result:\", result_addition)  # Output: 15\n"
   ]
  },
  {
   "cell_type": "code",
   "execution_count": 9,
   "metadata": {
    "tags": []
   },
   "outputs": [
    {
     "name": "stdout",
     "output_type": "stream",
     "text": [
      "120 minutes is equal to 2.0 hours\n"
     ]
    }
   ],
   "source": [
    "# Convert minutes to hours\n",
    "minutes = 120\n",
    "hours = minutes / 60\n",
    "\n",
    "print(\"120 minutes is equal to\", hours, \"hours\")"
   ]
  },
  {
   "cell_type": "markdown",
   "metadata": {},
   "source": [
    "## Objectives\n",
    "\n",
    "- Explore basic arithmetic expressions in Python.\n",
    "- Understand how to perform addition, subtraction, multiplication, and division operations.\n",
    "- Learn how to convert minutes to hours using Python.\n",
    "- Practice writing Python code snippets to perform arithmetic operations.\n"
   ]
  },
  {
   "cell_type": "markdown",
   "metadata": {},
   "source": [
    "## Author\n",
    "\n",
    "Sibin Babu"
   ]
  },
  {
   "cell_type": "code",
   "execution_count": null,
   "metadata": {},
   "outputs": [],
   "source": []
  }
 ],
 "metadata": {
  "kernelspec": {
   "display_name": "Python",
   "language": "python",
   "name": "conda-env-python-py"
  },
  "language_info": {
   "codemirror_mode": {
    "name": "ipython",
    "version": 3
   },
   "file_extension": ".py",
   "mimetype": "text/x-python",
   "name": "python",
   "nbconvert_exporter": "python",
   "pygments_lexer": "ipython3",
   "version": "3.7.12"
  }
 },
 "nbformat": 4,
 "nbformat_minor": 4
}
